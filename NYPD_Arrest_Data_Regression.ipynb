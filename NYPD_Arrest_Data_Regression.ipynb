{
 "cells": [
  {
   "cell_type": "markdown",
   "id": "52418927",
   "metadata": {},
   "source": [
    "# Regression Models"
   ]
  },
  {
   "cell_type": "markdown",
   "id": "215f8f89",
   "metadata": {},
   "source": [
    "### Regression: predict continuous values (predict numbers)\n",
    "### Classification: predict categories (classes) "
   ]
  },
  {
   "cell_type": "markdown",
   "id": "aa7c59a8",
   "metadata": {},
   "source": [
    "## Linear Regression\n",
    "- Analytics techique that uses old data to predict an output\n",
    "- Why? Explains how variables relate to each other \n",
    "- gives us the linear relationship of two or more variables within a dataset. \n",
    "- examples used in the real world: business(predicting product sales, employee), healthcare (predicting blood pressure levels from weight) \n",
    "\n",
    "\n",
    "- **basic idea**: we can fit a linear regression model to observed data, then later use the model to predict future values\n",
    "\n",
    "- **Predication = y-intercept + (coefficient * X)** \n",
    "- which is **y = mx + b**"
   ]
  },
  {
   "cell_type": "markdown",
   "id": "2ec0b1fa",
   "metadata": {},
   "source": [
    "## Difference between Linear Regression and Logistic Regression\n",
    "\n",
    "- Linear Regression tries to predict the value by an integer number, while Logistic regression is a classification model\n",
    "- linear regression tries to predict numbers, while logistic regression tries to predict classes (yes/no), put into classes (ex: survived/not survived) "
   ]
  },
  {
   "cell_type": "markdown",
   "id": "549155e4",
   "metadata": {},
   "source": [
    "## What goes into Linear Regression \n",
    "\n",
    "- **Input/ Predictor Variable(s)**: variables that help predict the value of the output variable. also known as X or selected_features\n",
    "- **Output variable**: variable we want to predict. known as the y."
   ]
  },
  {
   "cell_type": "markdown",
   "id": "fac90b11",
   "metadata": {},
   "source": [
    "- To figure out if Linear regression is good or bad, we use Mean absolute error and R-squared"
   ]
  },
  {
   "cell_type": "markdown",
   "id": "34fdda66",
   "metadata": {},
   "source": [
    "## Mean Absolute Error\n",
    "- To calculate Mean Absolute Error\n",
    "    - take the absolute value of all of the errors\n",
    "    - sum them all up \n",
    "    - take the average\n",
    "- A MAE score of 0 means there is NO error, this is good. The higher the error the worse the model is\n",
    "- for example: MAE of 0.5 means that the predicated value is on average 0.5 units away from the true value"
   ]
  },
  {
   "cell_type": "markdown",
   "id": "531c535b",
   "metadata": {},
   "source": [
    "## R-squared\n",
    "- R-squared measures the **strength of the relationship** between the **model** and the **dependent variable** on 0-100% scale. \n",
    "- R-square looks at the scatter of the data points around the fitted regression line \n",
    "- a higher r-square the tighter the data points are, lower the score, the more scatter the data points are. "
   ]
  },
  {
   "cell_type": "markdown",
   "id": "d9c92e7e",
   "metadata": {},
   "source": [
    "## R-squared Scores \n",
    "- the larger the R-squared, the better the regression model fits your observations\n",
    "- **Note**: r-square values that deal with human involvement (ex: rating wine quality) are low from the get go. 30% score for a human involved data set is good. Things that do not involve humans, like a chemical reaction, higher R-squared are expected(90% is good, 30% would not be so good) "
   ]
  },
  {
   "cell_type": "markdown",
   "id": "b9c09972",
   "metadata": {},
   "source": [
    "## Limitations of Linear Regression \n",
    "- to use linear regression, there has to be a linear relationship between indepedent and dependent variables \n",
    "- Sensititve to outliners, which can affect the regression line and eventually the forecasted values"
   ]
  },
  {
   "cell_type": "markdown",
   "id": "a2f7d1f9",
   "metadata": {},
   "source": [
    "## Random Forest Regression"
   ]
  },
  {
   "cell_type": "markdown",
   "id": "cc31bd18",
   "metadata": {},
   "source": [
    "- all regression models use mean absolute error (MAE) and R-squared for evaluation "
   ]
  },
  {
   "cell_type": "markdown",
   "id": "5e35ab2b",
   "metadata": {},
   "source": [
    "## When to use Random Forest Regression\n",
    "### pros and cons \n",
    "- pros\n",
    "    - can handle non-linear data very well\n",
    "    - handles missing values well\n",
    "- cons\n",
    "    - computationally expensive \n",
    "    - can overfit in comparison to linear regression\n",
    "    "
   ]
  }
 ],
 "metadata": {
  "kernelspec": {
   "display_name": "Python 3",
   "language": "python",
   "name": "python3"
  },
  "language_info": {
   "codemirror_mode": {
    "name": "ipython",
    "version": 3
   },
   "file_extension": ".py",
   "mimetype": "text/x-python",
   "name": "python",
   "nbconvert_exporter": "python",
   "pygments_lexer": "ipython3",
   "version": "3.8.8"
  }
 },
 "nbformat": 4,
 "nbformat_minor": 5
}
